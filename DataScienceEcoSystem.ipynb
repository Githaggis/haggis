{
 "cells": [
  {
   "cell_type": "markdown",
   "id": "8430fffb-0b81-4518-a14e-6c351ea66647",
   "metadata": {},
   "source": [
    "# Data Science Tools and Ecosystem"
   ]
  },
  {
   "cell_type": "markdown",
   "id": "d3f3cf33-39d2-4c72-ad3a-a0f5a186ee79",
   "metadata": {},
   "source": [
    "In this notebook, Data Science Tools and Ecosystem are summarized."
   ]
  },
  {
   "cell_type": "markdown",
   "id": "abdab0f3-ec4c-49fe-99b5-27dd6af49f03",
   "metadata": {},
   "source": [
    "**Objectives:** \n",
    "* Data Science Tools\n",
    "* Languages of Data Science\n",
    "* Jupyter Notebooks and JupyterLab"
   ]
  },
  {
   "cell_type": "markdown",
   "id": "6cdc09a5-2b1c-4533-99f3-dedd41df3954",
   "metadata": {},
   "source": [
    "Some of the popular languages that Data Scientists use are:\n",
    "1. Python\n",
    "2. R\n",
    "3. C++"
   ]
  },
  {
   "cell_type": "markdown",
   "id": "c695edd0-eea4-46da-bd44-266daba228d3",
   "metadata": {},
   "source": [
    "Some of the commonly used libraries used by Data Scientists include:\n",
    "1. matplotlib\n",
    "2. numpy\n",
    "3. scipy"
   ]
  },
  {
   "cell_type": "markdown",
   "id": "c2c652f3-92fe-46cf-b7f5-bbac4cc02bb7",
   "metadata": {
    "tags": []
   },
   "source": [
    "| Data Science Tools |\n",
    "---\n",
    "|Apache Spark|\n",
    "|Hadoop|\n",
    "|Rstudio|"
   ]
  },
  {
   "cell_type": "markdown",
   "id": "77ca254a-f448-4454-a721-5b088001ff3c",
   "metadata": {},
   "source": [
    "### Below are a few examples of evaluating arithmetic expressions in Python\n"
   ]
  },
  {
   "cell_type": "code",
   "execution_count": 4,
   "id": "59298c7e-2544-4599-8dfb-fd47a963efbb",
   "metadata": {},
   "outputs": [
    {
     "data": {
      "text/plain": [
       "17"
      ]
     },
     "execution_count": 4,
     "metadata": {},
     "output_type": "execute_result"
    }
   ],
   "source": [
    "#This a simple arithmetic expression to mutiply then add integers\n",
    "(3*4)+5"
   ]
  },
  {
   "cell_type": "code",
   "execution_count": 5,
   "id": "9aa4c9c7-43f6-42b0-8039-3e65476c58bc",
   "metadata": {},
   "outputs": [
    {
     "data": {
      "text/plain": [
       "3.3333333333333335"
      ]
     },
     "execution_count": 5,
     "metadata": {},
     "output_type": "execute_result"
    }
   ],
   "source": [
    "#This will convert 200 minutes to hours by diving by 60\n",
    "200/60"
   ]
  },
  {
   "cell_type": "markdown",
   "id": "3ea1bd2b-a8f7-4b55-909f-f4f63c04d679",
   "metadata": {},
   "source": [
    "## Author\n",
    "승준"
   ]
  },
  {
   "cell_type": "code",
   "execution_count": null,
   "id": "77580b96-889f-4f61-8f03-c0c38d1b52dd",
   "metadata": {},
   "outputs": [],
   "source": []
  }
 ],
 "metadata": {
  "kernelspec": {
   "display_name": "Python 3 (ipykernel)",
   "language": "python",
   "name": "python3"
  },
  "language_info": {
   "codemirror_mode": {
    "name": "ipython",
    "version": 3
   },
   "file_extension": ".py",
   "mimetype": "text/x-python",
   "name": "python",
   "nbconvert_exporter": "python",
   "pygments_lexer": "ipython3",
   "version": "3.10.9"
  }
 },
 "nbformat": 4,
 "nbformat_minor": 5
}
